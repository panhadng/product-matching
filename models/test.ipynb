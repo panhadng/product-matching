{
 "cells": [
  {
   "cell_type": "markdown",
   "metadata": {},
   "source": [
    "# Testing the Models\n"
   ]
  },
  {
   "cell_type": "markdown",
   "metadata": {},
   "source": [
    "#### `compare.py` Model"
   ]
  },
  {
   "cell_type": "code",
   "execution_count": 2,
   "metadata": {},
   "outputs": [
    {
     "name": "stdout",
     "output_type": "stream",
     "text": [
      "Comparison Results:\n",
      "Overall Similarity: 0.48\n",
      "Description Similarity: 0.76\n",
      "Feature Similarity: 0.20\n",
      "\n",
      "Description for Product 1:\n",
      "Ergonomic office chair with adjustable lumbar support, black leather upholstery, and chrome base\n",
      "\n",
      "Extracted Features for Product 1:\n",
      "  keywords: ['adjustable', 'and', 'base', 'black', 'chair']\n",
      "  color: black\n",
      "\n",
      "Description for Product 2:\n",
      "Modern gaming chair with high backrest, red fabric, and built-in speakers\n",
      "\n",
      "Extracted Features for Product 2:\n",
      "  keywords: ['and', 'backrest', 'built', 'chair', 'fabric']\n",
      "  color: red\n"
     ]
    }
   ],
   "source": [
    "from compare import ProductComparator\n",
    "import warnings\n",
    "warnings.filterwarnings(\"ignore\")\n",
    "\n",
    "\n",
    "# Initialize the ProductComparator\n",
    "comparator = ProductComparator()\n",
    "\n",
    "# Define two sample products\n",
    "product1 = {\n",
    "    'description': 'Ergonomic office chair with adjustable lumbar support, black leather upholstery, and chrome base',\n",
    "    # 'image_path': 'images/chair1.jpg'\n",
    "}\n",
    "\n",
    "product2 = {\n",
    "    'description': 'Modern gaming chair with high backrest, red fabric, and built-in speakers',\n",
    "    # 'image_path': 'images/chair2.jpg'\n",
    "}\n",
    "\n",
    "# Add error handling and debugging\n",
    "try:\n",
    "    result = comparator.compare_products(product1, product2)\n",
    "\n",
    "    # Print the results\n",
    "    print(\"Comparison Results:\")\n",
    "    print(f\"Overall Similarity: {result['overall_similarity']:.2f}\")\n",
    "    print(f\"Description Similarity: {result['description_similarity']:.2f}\")\n",
    "    # print(f\"Image Similarity: {result['image_similarity']:.2f}\")\n",
    "    print(f\"Feature Similarity: {result['feature_similarity']:.2f}\")\n",
    "\n",
    "    print(\"\\nDescription for Product 1:\")\n",
    "    print(product1['description'])\n",
    "    print(\"\\nExtracted Features for Product 1:\")\n",
    "    for feature, value in result['extracted_features1'].items():\n",
    "        print(f\"  {feature}: {value}\")\n",
    "\n",
    "    print(\"\\nDescription for Product 2:\")\n",
    "    print(product2['description'])\n",
    "    print(\"\\nExtracted Features for Product 2:\")\n",
    "    for feature, value in result['extracted_features2'].items():\n",
    "        print(f\"  {feature}: {value}\")\n",
    "\n",
    "except ValueError as e:\n",
    "    print(f\"ValueError occurred: {e}\")\n",
    "    print(\"Debugging information:\")\n",
    "    print(f\"Product 1 description: {product1['description']}\")\n",
    "    print(f\"Product 2 description: {product2['description']}\")\n",
    "    # Add any other relevant debugging information\n",
    "\n",
    "except Exception as e:\n",
    "    print(f\"An unexpected error occurred: {e}\")"
   ]
  },
  {
   "cell_type": "code",
   "execution_count": 5,
   "metadata": {},
   "outputs": [
    {
     "name": "stdout",
     "output_type": "stream",
     "text": [
      "Image description: there is a computer keyboard with a pen on it\n"
     ]
    }
   ],
   "source": [
    "from describe import describe_image_simple\n",
    "image_path = \"images/keyboard1.jpg\"\n",
    "description = describe_image_simple(image_path)\n",
    "print(f\"Image description: {description}\")"
   ]
  }
 ],
 "metadata": {
  "kernelspec": {
   "display_name": "Python 3",
   "language": "python",
   "name": "python3"
  },
  "language_info": {
   "codemirror_mode": {
    "name": "ipython",
    "version": 3
   },
   "file_extension": ".py",
   "mimetype": "text/x-python",
   "name": "python",
   "nbconvert_exporter": "python",
   "pygments_lexer": "ipython3",
   "version": "3.12.6"
  }
 },
 "nbformat": 4,
 "nbformat_minor": 2
}
